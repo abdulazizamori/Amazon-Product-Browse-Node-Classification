{
  "cells": [
    {
      "cell_type": "code",
      "source": [
        "!apt-get install openjdk-8-jdk-headless -qq > /dev/null\n",
        "!wget -q http://archive.apache.org/dist/spark/spark-3.1.1/spark-3.1.1-bin-hadoop3.2.tgz\n",
        "!tar xf spark-3.1.1-bin-hadoop3.2.tgz\n",
        "!pip install -q findspark"
      ],
      "metadata": {
        "id": "VJn-VZNayocz"
      },
      "execution_count": 1,
      "outputs": []
    },
    {
      "cell_type": "code",
      "source": [
        "import os\n",
        "os.environ[\"JAVA_HOME\"] = \"/usr/lib/jvm/java-8-openjdk-amd64\"\n",
        "os.environ[\"SPARK_HOME\"] = \"/content/spark-3.1.1-bin-hadoop3.2\""
      ],
      "metadata": {
        "id": "P-3YeyJpyoZV"
      },
      "execution_count": 2,
      "outputs": []
    },
    {
      "cell_type": "code",
      "source": [
        "import findspark\n",
        "findspark.init()\n",
        "from pyspark.sql import SparkSession\n",
        "from pyspark.ml.feature import VectorAssembler\n",
        "from pyspark.ml import Pipeline"
      ],
      "metadata": {
        "id": "bjXWzlNEyoXb"
      },
      "execution_count": 3,
      "outputs": []
    },
    {
      "cell_type": "code",
      "source": [
        "spark = SparkSession.builder.master(\"local[*]\").appName(\"BigDataProject\").getOrCreate()"
      ],
      "metadata": {
        "id": "5BYMS3-mywAm"
      },
      "execution_count": 4,
      "outputs": []
    },
    {
      "cell_type": "code",
      "source": [
        "from google.colab import drive\n",
        "drive.mount('/content/drive')"
      ],
      "metadata": {
        "colab": {
          "base_uri": "https://localhost:8080/"
        },
        "id": "i7xxwUmYyoVM",
        "outputId": "5cae7648-91a4-4d3a-d620-5c0f6bf4b477"
      },
      "execution_count": 5,
      "outputs": [
        {
          "output_type": "stream",
          "name": "stdout",
          "text": [
            "Mounted at /content/drive\n"
          ]
        }
      ]
    },
    {
      "cell_type": "code",
      "source": [
        "df_train = spark.read.csv(\"/content/drive/My Drive/Big Data/train.csv\", header=True, inferSchema=True)"
      ],
      "metadata": {
        "id": "uq8K-W1JyoLl"
      },
      "execution_count": 6,
      "outputs": []
    },
    {
      "cell_type": "code",
      "source": [
        "df_train.head(5)"
      ],
      "metadata": {
        "colab": {
          "base_uri": "https://localhost:8080/"
        },
        "id": "4ftzmFA7zH6r",
        "outputId": "52b81d89-8ea0-4d28-f8d8-589ffa51a50c"
      },
      "execution_count": 8,
      "outputs": [
        {
          "output_type": "execute_result",
          "data": {
            "text/plain": [
              "[Row(TITLE='Pete The Cat Bedtime Blues Doll\\\\', DESCRIPTION=' 14.5 Inch', BULLET_POINTS='Pete the Cat is the coolest\\\\', BRAND=\" most popular cat in town. The new Pete the Cat Bedtime Blues Doll from MerryMakers rocks his striped pj's and red slippers. He is one sleepy cat and is ready to cuddle. Measures 14.5 inches tall. Safe for all ages. Removable clothing. Surface wash only. New 2015\", BROWSE_NODE_ID='[Pete the Cat Bedtime Blues plush doll\\\\'),\n",
              " Row(TITLE='The New Yorker NYHM014 Refrigerator Magnet\\\\', DESCRIPTION=' 2 x 3.5', BULLET_POINTS='The New Yorker Handsome Cello Wrapped Hard Magnet measures 2.5-Inch width by 3.5-Inch height and highlight one of the many beautiful New Yorker covers in full color. Cat In A Tea Cup by New Yorker cover artist Gurbuz Dogan Eksioglu', BRAND='[Cat In A Tea Cup by New Yorker cover artist Gurbuz Dogan Eksioglu\\\\', BROWSE_NODE_ID='Handsome cello wrapped hard magnet\\\\'),\n",
              " Row(TITLE='The Ultimate Self-Sufficiency Handbook: A Complete Guide to Baking\\\\', DESCRIPTION=' Crafts\\\\', BULLET_POINTS=' Gardening\\\\', BRAND=' Preserving Your Harvest\\\\', BROWSE_NODE_ID=' Raising Animals and More'),\n",
              " Row(TITLE='Amway Nutrilite Kids Chewable Iron Tablets (100)', DESCRIPTION=None, BULLET_POINTS='[Nutrilite Kids\\\\', BRAND='Chewable Iron Tablets\\\\', BROWSE_NODE_ID='Quantity 100 tablets]'),\n",
              " Row(TITLE='Teacher Planner Company A4 6 Lesson Academic Teacher Planner - Leatherette Pink', DESCRIPTION=None, BULLET_POINTS=None, BRAND=None, BROWSE_NODE_ID='4')]"
            ]
          },
          "metadata": {},
          "execution_count": 8
        }
      ]
    },
    {
      "cell_type": "code",
      "source": [
        "num_rows = df_train.count()\n",
        "print(\"Number of Rows:\", num_rows)\n",
        "\n",
        "num_columns = len(df_train.columns)\n",
        "print(\"Number of Columns:\", num_columns)"
      ],
      "metadata": {
        "colab": {
          "base_uri": "https://localhost:8080/"
        },
        "id": "1BZD3aUwy4_X",
        "outputId": "8fb2711e-b76e-4cc2-9abe-8783799fa0ca"
      },
      "execution_count": 9,
      "outputs": [
        {
          "output_type": "stream",
          "name": "stdout",
          "text": [
            "Number of Rows: 2903024\n",
            "Number of Columns: 5\n"
          ]
        }
      ]
    },
    {
      "cell_type": "code",
      "source": [
        "df_train = df_train.dropna()"
      ],
      "metadata": {
        "id": "noasPsrZz_ff"
      },
      "execution_count": 10,
      "outputs": []
    },
    {
      "cell_type": "code",
      "source": [
        "num_rows = df_train.count()\n",
        "print(\"Number of Rows after drop null values:\", num_rows)"
      ],
      "metadata": {
        "colab": {
          "base_uri": "https://localhost:8080/"
        },
        "id": "SroYzhwb0A-V",
        "outputId": "cc287705-dc65-41b6-e1db-30cb3316e781"
      },
      "execution_count": 11,
      "outputs": [
        {
          "output_type": "stream",
          "name": "stdout",
          "text": [
            "Number of Rows after drop null values: 2145102\n"
          ]
        }
      ]
    },
    {
      "cell_type": "code",
      "source": [
        "df_train = df_train.dropDuplicates()"
      ],
      "metadata": {
        "id": "DXNV88cP0BBz"
      },
      "execution_count": 12,
      "outputs": []
    },
    {
      "cell_type": "code",
      "source": [
        "num_rows = df_train.count()\n",
        "print(\"Number of Rows after drop duplicated rows:\", num_rows)"
      ],
      "metadata": {
        "colab": {
          "base_uri": "https://localhost:8080/"
        },
        "id": "sjIQq7WW0IZN",
        "outputId": "8d91171c-3661-4135-88ed-2aea092235d4"
      },
      "execution_count": 13,
      "outputs": [
        {
          "output_type": "stream",
          "name": "stdout",
          "text": [
            "Number of Rows after drop duplicated rows: 2047316\n"
          ]
        }
      ]
    },
    {
      "cell_type": "code",
      "source": [
        "from pyspark.ml.feature import Tokenizer, HashingTF, StringIndexer, OneHotEncoder, VectorAssembler\n",
        "from pyspark.ml.classification import DecisionTreeClassifier\n",
        "from pyspark.ml import Pipeline\n",
        "from pyspark.ml.evaluation import MulticlassClassificationEvaluator"
      ],
      "metadata": {
        "id": "pVgtfuDq0ohQ"
      },
      "execution_count": null,
      "outputs": []
    },
    {
      "cell_type": "code",
      "source": [
        "fraction_to_sample = 0.2\n",
        "df_train_sampled = df_train.sample(withReplacement=False, fraction=fraction_to_sample, seed=42)\n",
        "df_train_sampled = df_train_sampled.repartition(5)"
      ],
      "metadata": {
        "id": "Tswg83dx0uYM"
      },
      "execution_count": null,
      "outputs": []
    },
    {
      "cell_type": "code",
      "source": [
        "train_ratio = 0.8\n",
        "test_ratio = 1.0 - train_ratio\n",
        "train_df, test_df = df_train_sampled.randomSplit([train_ratio, test_ratio], seed=42)"
      ],
      "metadata": {
        "id": "kuKgV_LT35Fu"
      },
      "execution_count": null,
      "outputs": []
    },
    {
      "cell_type": "code",
      "source": [
        "tokenizer = Tokenizer(inputCol=\"TITLE\", outputCol=\"title_tokens\")\n",
        "hashing_tf = HashingTF(inputCol=\"title_tokens\", outputCol=\"title_features\", numFeatures=256)\n",
        "\n",
        "tokenizer_desc = Tokenizer(inputCol=\"DESCRIPTION\", outputCol=\"desc_tokens\")\n",
        "hashing_tf_desc = HashingTF(inputCol=\"desc_tokens\", outputCol=\"desc_features\", numFeatures=256)\n",
        "\n",
        "tokenizer_bp = Tokenizer(inputCol=\"BULLET_POINTS\", outputCol=\"bp_tokens\")\n",
        "hashing_tf_bp = HashingTF(inputCol=\"bp_tokens\", outputCol=\"bp_features\", numFeatures=256)\n",
        "\n",
        "brand_indexer = StringIndexer(inputCol=\"BRAND\", outputCol=\"BRAND_index\")\n",
        "encoder = OneHotEncoder(inputCols=[\"BRAND_index\"], outputCols=[\"BRAND_onehot\"])"
      ],
      "metadata": {
        "id": "PyVgOk4L0zEF"
      },
      "execution_count": null,
      "outputs": []
    },
    {
      "cell_type": "code",
      "source": [
        "label_indexer = StringIndexer(inputCol=\"BROWSE_NODE_ID\", outputCol=\"label\")"
      ],
      "metadata": {
        "id": "lnH9nvnF01kN"
      },
      "execution_count": null,
      "outputs": []
    },
    {
      "cell_type": "code",
      "source": [
        "assembler = VectorAssembler(inputCols=[\"BRAND_onehot\", \"title_features\", \"desc_features\", \"bp_features\"], outputCol=\"features\")"
      ],
      "metadata": {
        "id": "_fcoIv7L035Y"
      },
      "execution_count": null,
      "outputs": []
    },
    {
      "cell_type": "code",
      "source": [
        "dt = DecisionTreeClassifier(labelCol=\"label\", featuresCol=\"features\")"
      ],
      "metadata": {
        "id": "jWXATLpi08We"
      },
      "execution_count": null,
      "outputs": []
    },
    {
      "cell_type": "code",
      "source": [
        "pipeline = Pipeline(stages=[tokenizer, hashing_tf, tokenizer_desc, hashing_tf_desc, tokenizer_bp, hashing_tf_bp, brand_indexer, encoder, label_indexer, assembler, dt])"
      ],
      "metadata": {
        "id": "K8Frb1wp0-aB"
      },
      "execution_count": null,
      "outputs": []
    },
    {
      "cell_type": "code",
      "source": [
        "model = pipeline.fit(df_train_sampled)\n",
        "predictions = model.transform(test_df)"
      ],
      "metadata": {
        "id": "qpAg8q5e3l0v"
      },
      "execution_count": null,
      "outputs": []
    },
    {
      "cell_type": "code",
      "source": [
        "X_test = predictions.select(\"features\").rdd.map(lambda row: row.features.toArray()).collect()\n",
        "y_test = predictions.select(\"label\").rdd.map(lambda row: row.label).collect()\n"
      ],
      "metadata": {
        "id": "Ye7AHdsW4DJl"
      },
      "execution_count": null,
      "outputs": []
    },
    {
      "cell_type": "code",
      "source": [
        "train_predictions = model.transform(train_df)\n",
        "X_train = train_predictions.select(\"features\").rdd.map(lambda row: row.features.toArray()).collect()\n",
        "y_train = train_predictions.select(\"label\").rdd.map(lambda row: row.label).collect()"
      ],
      "metadata": {
        "id": "WfNSf-Ex4JqQ"
      },
      "execution_count": null,
      "outputs": []
    },
    {
      "cell_type": "code",
      "source": [
        "evaluator = MulticlassClassificationEvaluator(labelCol=\"label\", predictionCol=\"prediction\", metricName=\"accuracy\")\n",
        "accuracy = evaluator.evaluate(predictions)"
      ],
      "metadata": {
        "id": "od9h04UA1BC5"
      },
      "execution_count": null,
      "outputs": []
    },
    {
      "cell_type": "code",
      "execution_count": null,
      "metadata": {
        "id": "vP6Z_jNXykxP",
        "outputId": "4e151717-ce49-49de-b342-f68fd6a7fefa"
      },
      "outputs": [
        {
          "name": "stdout",
          "output_type": "stream",
          "text": [
            "Accuracy: 0.9255813953488372\n"
          ]
        }
      ],
      "source": [
        "print(\"Accuracy: {:.2%}\".format(accuracy))"
      ]
    },
    {
      "cell_type": "code",
      "execution_count": null,
      "metadata": {
        "id": "E23KwwoQykxT",
        "outputId": "1cadfc7c-44df-4cc9-fbe4-bdc9ff1db560"
      },
      "outputs": [
        {
          "name": "stdout",
          "output_type": "stream",
          "text": [
            "avg_precision: 0.939250039304607   avg_recall: 0.9272080343160257    avg_f1_score: 0.929245199130434\n"
          ]
        },
        {
          "data": {
            "image/png": "[encoded data removed]",
            "text/plain": [
              "<Figure size 800x600 with 1 Axes>"
            ]
          },
          "metadata": {},
          "output_type": "display_data"
        }
      ],
      "source": [
        "import matplotlib.pyplot as plt\n",
        "from sklearn.metrics import classification_report\n",
        "import numpy as np\n",
        "import warnings\n",
        "from sklearn.exceptions import UndefinedMetricWarning\n",
        "\n",
        "warnings.filterwarnings(\"ignore\", category=UndefinedMetricWarning)\n",
        "report = classification_report(y_test, predictions, output_dict=True)\n",
        "\n",
        "precision = [report[class_name]['precision'] if isinstance(report[class_name], dict) else 0.0 for class_name in report.keys()]\n",
        "recall = [report[class_name]['recall'] if isinstance(report[class_name], dict) else 0.0 for class_name in report.keys()]\n",
        "f1_score = [report[class_name]['f1-score'] if isinstance(report[class_name], dict) else 0.0 for class_name in report.keys()]\n",
        "\n",
        "avg_precision = np.mean(precision)\n",
        "avg_recall = np.mean(recall)\n",
        "avg_f1_score = np.mean(f1_score)\n",
        "\n",
        "fig, ax = plt.subplots(figsize=(8, 6))\n",
        "metrics = ['Precision', 'Recall', 'F1-Score']\n",
        "values = [avg_precision, avg_recall, avg_f1_score]\n",
        "print('avg_precision:',avg_precision,'  avg_recall:', avg_recall,'   avg_f1_score:',avg_f1_score)\n",
        "ax.bar(metrics, values, color=['blue', 'green', 'orange'])\n",
        "ax.set_ylabel('Average Score')\n",
        "ax.set_title('Average Classification Report Metrics')\n",
        "\n",
        "ax.set_yticks(np.arange(0, 1.1, 0.1))\n",
        "ax.set_ylim(0, 1)\n",
        "\n",
        "plt.show()"
      ]
    }
  ],
  "metadata": {
    "kernelspec": {
      "display_name": "Python 3",
      "language": "python",
      "name": "python3"
    },
    "language_info": {
      "codemirror_mode": {
        "name": "ipython",
        "version": 3
      },
      "file_extension": ".py",
      "mimetype": "text/x-python",
      "name": "python",
      "nbconvert_exporter": "python",
      "pygments_lexer": "ipython3",
      "version": "3.9.1"
    },
    "colab": {
      "provenance": []
    }
  },
  "nbformat": 4,
  "nbformat_minor": 0
}